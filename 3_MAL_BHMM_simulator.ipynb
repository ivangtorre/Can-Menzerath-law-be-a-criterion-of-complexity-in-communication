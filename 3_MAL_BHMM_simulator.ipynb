{
 "cells": [
  {
   "cell_type": "code",
   "execution_count": null,
   "metadata": {},
   "outputs": [],
   "source": [
    "import random\n",
    "import pandas as pd\n",
    "import matplotlib.pyplot as plt"
   ]
  },
  {
   "cell_type": "code",
   "execution_count": null,
   "metadata": {},
   "outputs": [],
   "source": [
    "def BHMM(pv, pc, nsimulations=10000):\n",
    "    df = []\n",
    "    syllables = []\n",
    "    meansyllablelength = []\n",
    "    for i in range(nsimulations):\n",
    "        flag = False\n",
    "        vowels = 0\n",
    "        consonant = 0\n",
    "        while flag == False:\n",
    "            number = random.random()\n",
    "            if number < pv:\n",
    "                vowels+=1\n",
    "            elif (number < pv+pc) and (number > pv):\n",
    "                consonant +=1\n",
    "            elif number> pv+pc:\n",
    "                flag=True\n",
    "        if vowels>0:\n",
    "            df. append((vowels, (consonant+vowels)/vowels) )\n",
    "    menzerath = pd.DataFrame.from_records(df, columns=['syllabes', 'mean_syllabe_length']).groupby(\"syllabes\").agg({'mean_syllabe_length':['mean', \"count\"]})\n",
    "    menzerath = menzerath.mean_syllabe_length[menzerath.mean_syllabe_length[\"count\"]>10]\n",
    "    return(menzerath[\"mean\"])    \n",
    "    "
   ]
  },
  {
   "cell_type": "code",
   "execution_count": null,
   "metadata": {},
   "outputs": [],
   "source": [
    "def HMM_model(pc):\n",
    "    p = pc\n",
    "    model = []\n",
    "    for m in range(1, 50):\n",
    "        mean_length = (p)/(1-p)/m + 1/(1-p)\n",
    "        model.append((m, mean_length))\n",
    "    df = pd.DataFrame(model, columns=['syllable', 'meansize'])\n",
    "    df = df.set_index('syllable')\n",
    "    return(df)    \n"
   ]
  },
  {
   "cell_type": "code",
   "execution_count": null,
   "metadata": {},
   "outputs": [],
   "source": [
    "pv=0.37\n",
    "pc=0.48\n",
    "ps=round(1-pv-pc,2)\n",
    "BHMM_stochastic = BHMM(pv, pc, nsimulations = 10**6)\n",
    "BHMM_Teoricvalues = HMM_model(pc)"
   ]
  },
  {
   "cell_type": "code",
   "execution_count": null,
   "metadata": {},
   "outputs": [],
   "source": [
    "# PLOT\n",
    "f, ax = plt.subplots()\n",
    "ax.plot(BHMM_stochastic[0:25], 's', color=\"k\", label=\"Stochastically generated BHMM\")\n",
    "ax.plot(BHMM_Teoricvalues[0:25], '-', color=\"k\", label=\"Theoretical solution of BHMM\")\n",
    "ax.set_xlim([0.8,15.2])\n",
    "\n",
    "ax.tick_params(axis='x', labelsize=12)\n",
    "ax.tick_params(axis='y', labelsize=12)\n",
    "    \n",
    "ax.set_xlabel(r\"$Word$\" + \" \" + r\"$\\overline{size}$\" + \" \" + r\"($number$\" + \" \" + r\"$of$\" + \" \" + r\"$syllables)$\", fontsize=12)\n",
    "ax.set_ylabel(r\"$Syllable$\" + \" \" + r\"$\\overline{size}$\" + \" \" + r\"$(characters)$\", fontsize=12)\n",
    "\n",
    "ax.legend(frameon = False, loc = \"upper right\", fontsize=10, ncol= 1)\n",
    "ax.text(10,2.52, r\"$p_v=$\" + str(pv) + \"\\n\" + r\"$p_c=$\"+ str(pc) + \"\\n\" + r\"$p_s=$\"+ str(ps))\n",
    "\n",
    "f.savefig(\"results/Figures_Article/BHMM_theoretical.pdf\", bbox_inches = 'tight', pad_inches = 0.1)\n"
   ]
  }
 ],
 "metadata": {
  "kernelspec": {
   "display_name": "Python 3",
   "language": "python",
   "name": "python3"
  },
  "language_info": {
   "codemirror_mode": {
    "name": "ipython",
    "version": 3
   },
   "file_extension": ".py",
   "mimetype": "text/x-python",
   "name": "python",
   "nbconvert_exporter": "python",
   "pygments_lexer": "ipython3",
   "version": "3.6.9"
  }
 },
 "nbformat": 4,
 "nbformat_minor": 4
}
